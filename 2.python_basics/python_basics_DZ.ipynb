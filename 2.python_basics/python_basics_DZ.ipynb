{
 "cells": [
  {
   "cell_type": "markdown",
   "metadata": {},
   "source": [
    "**Задание 1**. Даны 2 строки: *long_phrase* и *short_phrase*. \n",
    "Напишите код, который проверяет действительно ли длинная фраза *long_phrase* длиннее короткой *short_phrase*. И выводит *True* или *False* в зависимости от результата сравнения."
   ]
  },
  {
   "cell_type": "code",
   "execution_count": null,
   "metadata": {},
   "outputs": [],
   "source": [
    "long_phrase = 'Насколько проще было бы писать программы, если бы не заказчики'\n",
    "short_phrase = '640Кб должно хватить для любых задач. Билл Гейтс (по легенде)'"
   ]
  },
  {
   "cell_type": "code",
   "execution_count": 3,
   "metadata": {},
   "outputs": [
    {
     "data": {
      "text/plain": [
       "True"
      ]
     },
     "execution_count": 3,
     "metadata": {},
     "output_type": "execute_result"
    }
   ],
   "source": [
    "long_phrase = len('Насколько проще было бы писать программы, если бы не заказчики')\n",
    "short_phrase = len('640Кб должно хватить для любых задач. Билл Гейтс (по легенде)')\n",
    "long_phrase > short_phrase"
   ]
  },
  {
   "cell_type": "markdown",
   "metadata": {},
   "source": [
    "**Задание 2**. Дано значение объема файла в байтах (*в мегабайте 2^20 байт*). Напишите перевод этого значения в мегабайты в формате: \"*Объем файла равен 213.68Mb*\"."
   ]
  },
  {
   "cell_type": "code",
   "execution_count": 2,
   "metadata": {},
   "outputs": [
    {
     "name": "stdout",
     "output_type": "stream",
     "text": [
      "Объем файла равен  20.02716064453125 Mb\n"
     ]
    }
   ],
   "source": [
    "bites = 21000000 \n",
    "convert_to_Mb = bites/1024/1024\n",
    "print(\"Объем файла равен \", convert_to_Mb, 'Mb')"
   ]
  },
  {
   "cell_type": "markdown",
   "metadata": {},
   "source": [
    "**Задание 3**. Разработать приложение для определения знака зодиака по дате рождения. Пример:\n",
    "\n",
    "Введите месяц: март\n",
    "\n",
    "Введите число: 6\n",
    "\n",
    "Вывод:\n",
    "Рыбы"
   ]
  },
  {
   "cell_type": "code",
   "execution_count": 18,
   "metadata": {},
   "outputs": [
    {
     "name": "stdout",
     "output_type": "stream",
     "text": [
      "Введите месяц: июнь\n",
      "Введите число: 15\n",
      "Вы Близнецы\n"
     ]
    }
   ],
   "source": [
    "# Кто вы по знаку зодиака?\n",
    "month = input('Введите месяц: ')\n",
    "date = int(input('Введите число: '))\n",
    "if ((month == 'март' and 20 < date < 31) or (month == 'апрель' and 1 < date < 21)):\n",
    "    print('Вы Овен')\n",
    "if ((month == 'апрель' and 20 < date < 30) or (month == 'май' and 1 < date < 22)):\n",
    "    print('Вы Телец')\n",
    "if ((month == 'май' and 21 < date < 31) or (month == 'июнь' and 1 < date < 22)):\n",
    "    print('Вы Близнецы')\n",
    "if ((month == 'июнь' and 21 < date < 30) or (month == 'июль' and 1 < date < 23)):\n",
    "    print('Вы Рак')\n",
    "if ((month == 'июль' and 22 < date < 31) or (month == 'август' and 1 < date < 21)):\n",
    "    print('Вы Лев')\n",
    "if ((month == 'август' and 20 < date < 31) or (month == 'сентябрь' and 1 < date < 22)):\n",
    "    print('Вы Дева')\n",
    "if ((month == 'сентябрь' and 23 < date < 30) or (month == 'октябрь' and 1 < date < 24)):\n",
    "    print('Вы Весы')\n",
    "if ((month == 'октябрь' and 23 < date < 31) or (month == 'ноябрь' and 1 < date < 22)):\n",
    "    print('Вы Скорпион')\n",
    "if ((month == 'ноябрь' and 21 < date < 30) or (month == 'декабрь' and 1 < date < 22)):\n",
    "    print('Вы Стрелец')\n",
    "if ((month == 'декабрь' and 21 < date < 31) or (month == 'январь' and 1 < date < 20)):\n",
    "    print('Вы Козерог')\n",
    "if ((month == 'январь' and 22 < date < 31) or (month == 'февраль' and 1 < date < 19)):\n",
    "    print('Вы Водолей')\n",
    "if ((month == 'февраль' and 20 < date < 28) or (month == 'март' and 1 < date < 21)):\n",
    "    print('Вы Рыбы')\n"
   ]
  },
  {
   "cell_type": "markdown",
   "metadata": {},
   "source": [
    "**Задание 4**. Нужно разработать приложение для финансового планирования.\n",
    "Приложение учитывает сколько уходит на ипотеку, \"на жизнь\" и сколько нужно отложить на пенсию.\n",
    "Пользователь вводит:\n",
    "- заработанную плату в месяц.\n",
    "- сколько процентов от ЗП уходит на ипотеку.\n",
    "- сколько процентов от ЗП уходит \"на жизнь\".\n",
    "- сколько раз приходит премия в год.\n",
    "\n",
    "Остальная часть заработанной платы откладывается на пенсию.\n",
    "\n",
    "Также пользователю приходит премия в размере зарплаты, от которой половина уходит на отпуск, а вторая половина откладывается.\n",
    "\n",
    "Программа должна учитывать сколько премий было в год.\n",
    "\n",
    "Нужно вывести сколько денег тратит пользователь на ипотеку и сколько он накопит за год.\n",
    "\n",
    "Пример:\n",
    "\n",
    "Введите заработанную плату в месяц: 100000\n",
    "\n",
    "Введите сколько процентов уходит на ипотеку: 30\n",
    "\n",
    "Введите сколько процентов уходит на жизнь: 50\n",
    "\n",
    "Введите количество премий за год: 2\n",
    "\n",
    "Вывод:\n",
    "На ипотеку было потрачено: 360000 рублей\n",
    "Было накоплено: 340000 рублей"
   ]
  },
  {
   "cell_type": "code",
   "execution_count": 17,
   "metadata": {},
   "outputs": [
    {
     "name": "stdout",
     "output_type": "stream",
     "text": [
      "Зарплата в месяц: 100000\n",
      "Количество бонусов в год: 2\n",
      "Процент з/п на ипотеку: 30\n",
      "Процент з/п на жизнь50\n",
      "Вы тратите на ипотеку  360000.0  рублей в год.\n",
      "За год вы накопите  340000.0  рублей в год\n"
     ]
    }
   ],
   "source": [
    "salary = int(input('Зарплата в месяц: '))\n",
    "bonuses =  int(input('Количество премий в год: '))\n",
    "mortgage_ratio = int(input('Процент з/п на ипотеку: '))\n",
    "living_costs_ratio = int(input('Процент з/п на жизнь'))\n",
    "living_costs = salary * living_costs_ratio/100 * 12\n",
    "mortgage_yearly = salary * mortgage_ratio/100 * 12\n",
    "bonus_savings = (salary * bonuses)/2\n",
    "retirement_savings_yearly = salary * 12 - living_costs - mortgage_yearly + bonus_savings\n",
    "print('Вы тратите на ипотеку ', mortgage_yearly, ' рублей в год.' )\n",
    "print('За год вы накопите ', retirement_savings_yearly, ' рублей в год')"
   ]
  },
  {
   "cell_type": "code",
   "execution_count": null,
   "metadata": {},
   "outputs": [],
   "source": []
  }
 ],
 "metadata": {
  "kernelspec": {
   "display_name": "Python 3",
   "language": "python",
   "name": "python3"
  },
  "language_info": {
   "codemirror_mode": {
    "name": "ipython",
    "version": 3
   },
   "file_extension": ".py",
   "mimetype": "text/x-python",
   "name": "python",
   "nbconvert_exporter": "python",
   "pygments_lexer": "ipython3",
   "version": "3.7.6"
  }
 },
 "nbformat": 4,
 "nbformat_minor": 2
}
