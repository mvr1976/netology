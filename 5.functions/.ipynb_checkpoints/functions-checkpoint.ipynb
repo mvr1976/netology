{
 "cells": [
  {
   "cell_type": "markdown",
   "metadata": {},
   "source": [
    "Вы работаете секретарем и вам постоянно приходят различные документы. Вы должны быть очень внимательны, чтобы не потерять ни один документ. Каталог документов хранится в следующем виде:"
   ]
  },
  {
   "cell_type": "code",
   "execution_count": null,
   "metadata": {},
   "outputs": [],
   "source": [
    "documents = [\n",
    "    {'type': 'passport', 'number': '2207 876234', 'name': 'Василий Гупкин'},\n",
    "    {'type': 'invoice', 'number': '11-2', 'name': 'Геннадий Покемонов'},\n",
    "    {'type': 'insurance', 'number': '10006', 'name': 'Аристарх Павлов'}\n",
    "]\n",
    "directories = {\n",
    "    '1': ['2207 876234', '11-2'],\n",
    "    '2': ['10006'],\n",
    "    '3': ['3', '5', '7']\n",
    "}\n",
    "\n",
    "def identify_name():\n",
    "    ausweiss = input('введите номер документа: ')\n",
    "    for person in documents:\n",
    "        if person['number'] == ausweiss:\n",
    "            print('Это '+ person['name'])\n",
    "    if person['number'] != ausweiss:\n",
    "            print('Документ не найден')\n",
    "\n",
    "def identify_shelf(shelves):\n",
    "    ausweiss = input('введите номер документа: ')\n",
    "    for key, value in shelves.items():\n",
    "        for i in value:\n",
    "            if i == ausweiss:\n",
    "                print('лежит на полке ', key)\n",
    "                return key         \n",
    "    if i != ausweiss:\n",
    "        print('документ не найден')\n",
    "\n",
    "def list_output(ids_names):\n",
    "    for el in(ids_names):\n",
    "        print('паспорт № ', el['number'], '- ', el['name'])\n",
    "        \n",
    "def add_shelf(shelves):\n",
    "    new_shelf = input('Введите номер новой полки: ')\n",
    "    for key, value in shelves.items():\n",
    "        if key != new_shelf:\n",
    "            shelves.setdefault(new_shelf, [])\n",
    "            print(shelves)\n",
    "\n",
    "\n",
    "def ux_gate():\n",
    "    while True:\n",
    "        user_input = input('Введите команду: ')\n",
    "        if user_input == 'p':\n",
    "            identify_name()\n",
    "        if user_input == 's':\n",
    "            identify_shelf(directories)\n",
    "        if user_input == 'l':\n",
    "            list_output(documents)\n",
    "        if user_input == 'as':\n",
    "            add_shelf(directories)\n",
    "            break\n",
    "ux_gate()\n"
   ]
  },
  {
   "cell_type": "markdown",
   "metadata": {},
   "source": [
    "Перечень полок, на которых находятся документы хранится в следующем виде:"
   ]
  },
  {
   "cell_type": "code",
   "execution_count": null,
   "metadata": {},
   "outputs": [],
   "source": [
    "directories = {\n",
    "    '1': ['2207 876234', '11-2'],\n",
    "    '2': ['10006'],\n",
    "    '3': []\n",
    "}\n"
   ]
  },
  {
   "cell_type": "code",
   "execution_count": null,
   "metadata": {},
   "outputs": [],
   "source": []
  },
  {
   "cell_type": "markdown",
   "metadata": {},
   "source": [
    "Необходимо реализовать пользовательские команды (внимание! это не название функций, которые должны быть выразительными, а команды, которые вводит пользователь, чтобы получить необходимый результат):\n",
    "  \n",
    "- p – people – команда, которая спросит номер документа и выведет имя человека, которому он принадлежит;  \n",
    "- s – shelf – команда, которая спросит номер документа и выведет номер полки, на которой он находится  \n",
    "*Правильно обработайте ситуации, когда пользователь будет вводить несуществующий документ*.\n",
    "- l – list – команда, которая выведет список всех документов в формате   \n",
    "**passport \"2207 876234\" \"Василий Гупкин\"**  \n",
    "- as – add shelf – команда, которая спросит номер новой полки и добавит ее в перечень. *Предусмотрите случай, когда пользователь добавляет полку, которая уже существует*.\n",
    "- d – delete – команда, которая спросит номер документа и удалит его из каталога и из перечня полок. *Предусмотрите сценарий, когда пользователь вводит несуществующий документ*;  \n",
    "- m – move – команда, которая спросит номер документа и целевую полку и переместит его с текущей полки на целевую. *Корректно обработайте кейсы, когда пользователь пытается переместить несуществующий документ или переместить документ на несуществующую полку*;  \n",
    "- a – add – команда, которая добавит новый документ в каталог и в перечень полок, спросив его номер, тип, имя владельца и номер полки, на котором он будет храниться. *Корректно обработайте ситуацию, когда пользователь будет пытаться добавить документ на несуществующую полку*."
   ]
  }
 ],
 "metadata": {
  "kernelspec": {
   "display_name": "Python 3",
   "language": "python",
   "name": "python3"
  },
  "language_info": {
   "codemirror_mode": {
    "name": "ipython",
    "version": 3
   },
   "file_extension": ".py",
   "mimetype": "text/x-python",
   "name": "python",
   "nbconvert_exporter": "python",
   "pygments_lexer": "ipython3",
   "version": "3.7.6"
  }
 },
 "nbformat": 4,
 "nbformat_minor": 2
}
